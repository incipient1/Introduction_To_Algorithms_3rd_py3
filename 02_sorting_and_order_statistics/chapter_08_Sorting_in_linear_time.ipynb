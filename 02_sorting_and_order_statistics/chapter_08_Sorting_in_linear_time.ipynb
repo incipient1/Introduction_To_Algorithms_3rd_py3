{
 "cells": [
  {
   "cell_type": "markdown",
   "metadata": {},
   "source": [
    "# 第8章&ensp;线性时间排序"
   ]
  },
  {
   "cell_type": "markdown",
   "metadata": {},
   "source": [
    "## 8.1&ensp;排序算法的下界"
   ]
  },
  {
   "cell_type": "markdown",
   "metadata": {},
   "source": [
    "### 8.1-1&ensp;在一棵比较排序算法的决策树中，一个叶节点可能的最小深度？"
   ]
  },
  {
   "cell_type": "markdown",
   "metadata": {},
   "source": [
    "$lg(\\frac{n+1}{2}) = \\lfloor lgn \\rfloor$<br>\n",
    "排序算法的决策树是一棵完全二叉树，完全二叉树是所有叶节点深度相同，且所有内部节点度为2的2叉树。"
   ]
  },
  {
   "cell_type": "markdown",
   "metadata": {},
   "source": [
    "### 8.1-4&ensp;证明"
   ]
  },
  {
   "cell_type": "markdown",
   "metadata": {},
   "source": [
    "根据定理8.1，k个元素需要做$\\Omega(klgk)$次比较，一共有$\\frac{n}{k}$个这样的序列，所以一共要做$\\frac{n}{k}*\\Omega(klgk)$次比较，即$\\Omega(nlgk)$次比较。"
   ]
  },
  {
   "cell_type": "markdown",
   "metadata": {},
   "source": [
    "## 8.2&ensp;计数排序"
   ]
  },
  {
   "cell_type": "markdown",
   "metadata": {},
   "source": [
    "### 8.2-1&ensp;模仿"
   ]
  },
  {
   "cell_type": "markdown",
   "metadata": {},
   "source": [
    "B = [0,0,1,1,2,2,3,3,4,6,6]"
   ]
  },
  {
   "cell_type": "markdown",
   "metadata": {},
   "source": [
    "### 8.2-2&ensp;证明counting_sort是稳定的"
   ]
  },
  {
   "cell_type": "markdown",
   "metadata": {},
   "source": [
    "C[A[j]] = C[A[j]] - 1这行代码保证了即使遇到了相同值得A[j]，那么第二次遇到时它的位置也会向前移动一位。for循环是从A的最右边往左边移动的，那么先遇到的A[j]\\(在右边)其值就比后遇到的A[j]\\(在左边)值大，在B中的位置也就更靠右边，这个顺序和在A中的顺序相同，所以它是稳定的。"
   ]
  },
  {
   "cell_type": "markdown",
   "metadata": {},
   "source": [
    "### 8.2-3&ensp;证明"
   ]
  },
  {
   "cell_type": "markdown",
   "metadata": {},
   "source": [
    "是正确的，但是不稳定。因为在A中先遇到的A[j]其C[A[j]]要比后遇到的A[j]的C[A[j]]要大。"
   ]
  },
  {
   "cell_type": "markdown",
   "metadata": {},
   "source": [
    "### 8.2-4&ensp;在$\\Theta(n+k)$时间内求出介于0到k之间的n个整数中有多少个落在区间[a...b]内"
   ]
  },
  {
   "cell_type": "code",
   "execution_count": 1,
   "metadata": {},
   "outputs": [
    {
     "name": "stdout",
     "output_type": "stream",
     "text": [
      "4\n"
     ]
    }
   ],
   "source": [
    "def counting(A,a,b):\n",
    "    k = A[0]\n",
    "    for i in A:\n",
    "        if i > k:\n",
    "            k = i\n",
    "            \n",
    "    C = [0 for _ in range(k+1)]\n",
    "    \n",
    "    for j1 in range(len(A)):\n",
    "        C[A[j1]] += 1\n",
    "    \n",
    "    num = 0\n",
    "    for j2 in range(a,b+1):\n",
    "        num += C[A[j2]]\n",
    "    \n",
    "    return num\n",
    "\n",
    "A = [6,0,2,0,1,3,4,6,1,3,2]\n",
    "a = 0\n",
    "b = 1\n",
    "print(counting(A,a,b))"
   ]
  },
  {
   "cell_type": "markdown",
   "metadata": {},
   "source": []
  }
 ],
 "metadata": {
  "kernelspec": {
   "display_name": "Python 3",
   "language": "python",
   "name": "python3"
  },
  "language_info": {
   "codemirror_mode": {
    "name": "ipython",
    "version": 3
   },
   "file_extension": ".py",
   "mimetype": "text/x-python",
   "name": "python",
   "nbconvert_exporter": "python",
   "pygments_lexer": "ipython3",
   "version": "3.5.4"
  },
  "toc": {
   "nav_menu": {},
   "number_sections": true,
   "sideBar": true,
   "skip_h1_title": false,
   "toc_cell": false,
   "toc_position": {},
   "toc_section_display": "block",
   "toc_window_display": false
  }
 },
 "nbformat": 4,
 "nbformat_minor": 2
}
