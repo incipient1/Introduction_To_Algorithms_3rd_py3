{
 "cells": [
  {
   "cell_type": "markdown",
   "metadata": {},
   "source": [
    "# 第8章&ensp;线性时间排序"
   ]
  },
  {
   "cell_type": "markdown",
   "metadata": {},
   "source": [
    "## 8.1&ensp;排序算法的下界"
   ]
  },
  {
   "cell_type": "markdown",
   "metadata": {},
   "source": [
    "### 8.1-1&ensp;在一棵比较排序算法的决策树中，一个叶节点可能的最小深度？"
   ]
  },
  {
   "cell_type": "markdown",
   "metadata": {},
   "source": [
    "$lg(\\frac{n+1}{2}) = \\lfloor lgn \\rfloor$<br>\n",
    "排序算法的决策树是一棵完全二叉树，完全二叉树是所有叶节点深度相同，且所有内部节点度为2的2叉树。"
   ]
  },
  {
   "cell_type": "markdown",
   "metadata": {},
   "source": [
    "### 8.1-4&ensp;证明"
   ]
  },
  {
   "cell_type": "markdown",
   "metadata": {},
   "source": [
    "根据定理8.1，k个元素需要做$\\Omega(klgk)$次比较，一共有$\\frac{n}{k}$个这样的序列，所以一共要做$\\frac{n}{k}*\\Omega(klgk)$次比较，即$\\Omega(nlgk)$次比较。"
   ]
  },
  {
   "cell_type": "markdown",
   "metadata": {},
   "source": [
    "## 8.2&ensp;计数排序"
   ]
  },
  {
   "cell_type": "markdown",
   "metadata": {},
   "source": [
    "### 8.2-1&ensp;模仿"
   ]
  },
  {
   "cell_type": "markdown",
   "metadata": {},
   "source": [
    "B = [0,0,1,1,2,2,3,3,4,6,6]"
   ]
  },
  {
   "cell_type": "markdown",
   "metadata": {},
   "source": []
  }
 ],
 "metadata": {
  "kernelspec": {
   "display_name": "Python 3",
   "language": "python",
   "name": "python3"
  },
  "language_info": {
   "codemirror_mode": {
    "name": "ipython",
    "version": 3
   },
   "file_extension": ".py",
   "mimetype": "text/x-python",
   "name": "python",
   "nbconvert_exporter": "python",
   "pygments_lexer": "ipython3",
   "version": "3.5.4"
  },
  "toc": {
   "nav_menu": {},
   "number_sections": true,
   "sideBar": true,
   "skip_h1_title": false,
   "toc_cell": false,
   "toc_position": {},
   "toc_section_display": "block",
   "toc_window_display": false
  }
 },
 "nbformat": 4,
 "nbformat_minor": 2
}
