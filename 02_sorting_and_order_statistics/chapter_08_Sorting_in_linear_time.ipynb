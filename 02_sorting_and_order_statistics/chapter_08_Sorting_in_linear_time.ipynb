{
 "cells": [
  {
   "cell_type": "markdown",
   "metadata": {},
   "source": [
    "# 第8章&ensp;线性时间排序"
   ]
  },
  {
   "cell_type": "markdown",
   "metadata": {},
   "source": [
    "## 8.1&ensp;排序算法的下界"
   ]
  },
  {
   "cell_type": "markdown",
   "metadata": {},
   "source": [
    "### 8.1-1&ensp;在一棵比较排序算法的决策树中，一个叶节点可能的最小深度？"
   ]
  },
  {
   "cell_type": "markdown",
   "metadata": {},
   "source": [
    "$lg(\\frac{n+1}{2}) = \\lfloor lgn \\rfloor$<br>\n",
    "排序算法的决策树是一棵完全二叉树，完全二叉树是所有叶节点深度相同，且所有内部节点度为2的2叉树。"
   ]
  },
  {
   "cell_type": "markdown",
   "metadata": {
    "heading_collapsed": true
   },
   "source": [
    "### 8.1-4&ensp;证明"
   ]
  },
  {
   "cell_type": "markdown",
   "metadata": {
    "hidden": true
   },
   "source": [
    "根据定理8.1，k个元素需要做$\\Omega(klgk)$次比较，一共有$\\frac{n}{k}$个这样的序列，所以一共要做$\\frac{n}{k}*\\Omega(klgk)$次比较，即$\\Omega(nlgk)$次比较。"
   ]
  },
  {
   "cell_type": "markdown",
   "metadata": {},
   "source": [
    "## 8.2&ensp;计数排序"
   ]
  },
  {
   "cell_type": "markdown",
   "metadata": {},
   "source": [
    "### 8.2-1&ensp;模仿"
   ]
  },
  {
   "cell_type": "markdown",
   "metadata": {},
   "source": [
    "B = [0,0,1,1,2,2,3,3,4,6,6]"
   ]
  },
  {
   "cell_type": "markdown",
   "metadata": {
    "heading_collapsed": true
   },
   "source": [
    "### 8.2-2&ensp;证明counting_sort是稳定的"
   ]
  },
  {
   "cell_type": "markdown",
   "metadata": {
    "hidden": true
   },
   "source": [
    "C[A[j]] = C[A[j]] - 1这行代码保证了即使遇到了相同值得A[j]，那么第二次遇到时它的位置也会向前移动一位。for循环是从A的最右边往左边移动的，那么先遇到的A[j]\\(在右边)其值就比后遇到的A[j]\\(在左边)值大，在B中的位置也就更靠右边，这个顺序和在A中的顺序相同，所以它是稳定的。"
   ]
  },
  {
   "cell_type": "markdown",
   "metadata": {
    "heading_collapsed": true
   },
   "source": [
    "### 8.2-3&ensp;证明"
   ]
  },
  {
   "cell_type": "markdown",
   "metadata": {
    "hidden": true
   },
   "source": [
    "是正确的，但是不稳定。因为在A中先遇到的A[j]其C[A[j]]要比后遇到的A[j]的C[A[j]]要大。"
   ]
  },
  {
   "cell_type": "markdown",
   "metadata": {
    "heading_collapsed": true
   },
   "source": [
    "### 8.2-4&ensp;在$\\Theta(n+k)$时间内求出介于0到k之间的n个整数中有多少个落在区间[a...b]内"
   ]
  },
  {
   "cell_type": "code",
   "execution_count": 1,
   "metadata": {
    "hidden": true
   },
   "outputs": [
    {
     "name": "stdout",
     "output_type": "stream",
     "text": [
      "4\n"
     ]
    }
   ],
   "source": [
    "def counting(A,a,b):\n",
    "    k = A[0]\n",
    "    for i in A:\n",
    "        if i > k:\n",
    "            k = i\n",
    "            \n",
    "    C = [0 for _ in range(k+1)]\n",
    "    \n",
    "    for j1 in range(len(A)):\n",
    "        C[A[j1]] += 1\n",
    "    \n",
    "    num = 0\n",
    "    for j2 in range(a,b+1):\n",
    "        num += C[A[j2]]\n",
    "    \n",
    "    return num\n",
    "\n",
    "A = [6,0,2,0,1,3,4,6,1,3,2]\n",
    "a = 0\n",
    "b = 1\n",
    "print(counting(A,a,b))"
   ]
  },
  {
   "cell_type": "markdown",
   "metadata": {},
   "source": [
    "## 8.3&ensp;基数排序"
   ]
  },
  {
   "cell_type": "markdown",
   "metadata": {},
   "source": [
    "#### 8.3-1&ensp;照图"
   ]
  },
  {
   "cell_type": "markdown",
   "metadata": {},
   "source": [
    "### 8.3-2&ensp;"
   ]
  },
  {
   "cell_type": "markdown",
   "metadata": {},
   "source": [
    "插入排序、归并排序、快速排序是稳定的；堆排序不是稳定的。<br>\n",
    "能使任何排序算法都稳定：使用基数排序：先按照值的大小进行排序，再按照它们再原数组中的位置进行排序。额外时间开销是：第二次排序；额外空间排序：存储第一次排序的结果"
   ]
  },
  {
   "cell_type": "markdown",
   "metadata": {},
   "source": [
    "### 8.3-3&ensp;利用归纳法证明"
   ]
  },
  {
   "cell_type": "markdown",
   "metadata": {},
   "source": [
    "在代码第2行中，每次循环都会产生新的数组，并且这些数组在相应的位数上已经完成了排序，又因为是稳定的，那么不断循环，在所有的位数上都循环后产生的数组在任何（所有）位上都已经排序完成。"
   ]
  },
  {
   "cell_type": "markdown",
   "metadata": {},
   "source": [
    "### 8.3-4&ensp;在$O(n)$时间内对0到$n^3$-1区间内的n个整数进行排序"
   ]
  },
  {
   "cell_type": "markdown",
   "metadata": {},
   "source": [
    "用基数排序(radix_sort)，d = $\\lceil log_{10} (n^3-1) \\rceil$，每个数位有10个可能的取值，所以基数排序消耗的时间为$\\Theta(d(n+10)) = \\Theta(\\lceil log_{10} (n^3-1) \\rceil*(n+10))$"
   ]
  },
  {
   "cell_type": "markdown",
   "metadata": {},
   "source": [
    "### 8.3-5&ensp;"
   ]
  },
  {
   "cell_type": "markdown",
   "metadata": {},
   "source": [
    "在最坏情况下需要进行d轮排序，需要记录d-1堆卡片"
   ]
  },
  {
   "cell_type": "markdown",
   "metadata": {},
   "source": [
    "## 8.4&ensp;桶排序"
   ]
  },
  {
   "cell_type": "markdown",
   "metadata": {},
   "source": [
    "### 8.4-1&ensp;照图说话"
   ]
  },
  {
   "cell_type": "markdown",
   "metadata": {},
   "source": [
    "[[],[0.13,0.16],[0.2],[0.39],[0.42],[0.53],[0.64],[0.79,0.71],[0.89],[]]<br>\n",
    "[[],[0.13,0.16],[0.2],[0.39],[0.42],[0.53],[0.64],[0.71,0.79],[0.89],[]]<br>\n",
    "[0.13,0.16,0.2,0.39,0.42,0.53,0.64,0.71,0.79,0.89"
   ]
  },
  {
   "cell_type": "markdown",
   "metadata": {},
   "source": [
    "## 8.4-2&ensp;解释，修改"
   ]
  },
  {
   "cell_type": "markdown",
   "metadata": {},
   "source": [
    "最坏情况：所有的元素都在B的一个桶里，B的其它桶都为空，此时，排序桶里的元素时用的是insert_sort，耗时为$\\Theta(n^2)$"
   ]
  },
  {
   "cell_type": "markdown",
   "metadata": {},
   "source": [
    "最坏情况时间代价为:$O(nlgn)$，排序桶里的元素时选用heap_sort"
   ]
  },
  {
   "cell_type": "markdown",
   "metadata": {},
   "source": [
    "### 8.4-3&ensp;"
   ]
  },
  {
   "cell_type": "markdown",
   "metadata": {},
   "source": [
    "设$X_i = I\\{正面朝上的次数为i\\}$，形成分布列如下：<br>\n",
    "\n",
    "Xi|0|1|2\n",
    "--|--|--|--\n",
    "P|1/4|1/2|1/4\n",
    "\n",
    "$E[X^2] = \\frac{3}{2}$，&ensp;&ensp;$E^2[X] = 1$"
   ]
  },
  {
   "cell_type": "markdown",
   "metadata": {},
   "source": [
    "## 思考题"
   ]
  },
  {
   "cell_type": "markdown",
   "metadata": {},
   "source": [
    "### 8-1&ensp;比较排序的概率下界"
   ]
  },
  {
   "cell_type": "markdown",
   "metadata": {},
   "source": [
    "b. LT的根节点到T的根节点的高度为1，所以LT的所有(任一)叶节点到T的根节点深度比到LT的根节点深度多1，同理RT。所以D(T) = D(LT) +LT叶节点数 + D(RT) + RT的叶节点数 = D(LT) + D(RT) + k(总叶节点数)"
   ]
  },
  {
   "cell_type": "markdown",
   "metadata": {},
   "source": [
    "### 8-2&ensp;线性时间原址排序"
   ]
  },
  {
   "cell_type": "code",
   "execution_count": null,
   "metadata": {
    "collapsed": true
   },
   "outputs": [],
   "source": [
    "B = [[],[]]\n",
    "A = [0,1,0,1,0,1,1,1,0,0,0]\n",
    "for i in A:\n",
    "    if i == 0:\n",
    "        B[0].append(i)\n",
    "    elif i == 1:\n",
    "        B[1].append(i)\n",
    "    else:\n",
    "        print('数组的关键字有误')\n",
    "\n",
    "print(B)"
   ]
  },
  {
   "cell_type": "code",
   "execution_count": 1,
   "metadata": {},
   "outputs": [
    {
     "data": {
      "text/plain": [
       "[0.1, 0.3, 0.5, 0.9, 0.91, 0.92, 1.7, 1.8, 1.4, 1.2, 1.6]"
      ]
     },
     "execution_count": 1,
     "metadata": {},
     "output_type": "execute_result"
    }
   ],
   "source": [
    "A = [0.1,1.2,0.3,1.4,0.5,1.6,1.7,1.8,0.9,0.91,0.92]\n",
    "\n",
    "def sort_A(A):\n",
    "    i = -1\n",
    "    while i < len(A) and int(A[i]) != 1:\n",
    "        i += 1\n",
    "    else:\n",
    "        index = i\n",
    "    \n",
    "    for j in range(1,len(A)):\n",
    "        if int(A[j]) == 0 and int(A[j-1]) == 1:\n",
    "            A[j],A[index] = A[index],A[j]\n",
    "            index += 1\n",
    "    \n",
    "    return A\n",
    "    \n",
    "sort_A(A)"
   ]
  },
  {
   "cell_type": "code",
   "execution_count": 2,
   "metadata": {},
   "outputs": [
    {
     "data": {
      "text/plain": [
       "[0.1, 0.3, 0.5, 0.9, 0.91, 0.92, 1.2, 1.4, 1.6, 1.7, 1.8]"
      ]
     },
     "execution_count": 2,
     "metadata": {},
     "output_type": "execute_result"
    }
   ],
   "source": [
    "A = [0.1,1.2,0.3,1.4,0.5,1.6,1.7,1.8,0.9,0.91,0.92]\n",
    "\n",
    "def sort_A(A):\n",
    "    i = -1\n",
    "    while i < len(A) and int(A[i]) != 1:\n",
    "        i += 1\n",
    "    else:\n",
    "        index = i\n",
    "    \n",
    "    for j in range(1,len(A)):\n",
    "        if int(A[j]) == 0 and int(A[j-1]) == 1:\n",
    "            A.insert(index,A[j])\n",
    "            del A[j+1]\n",
    "            index += 1\n",
    "    \n",
    "    return A\n",
    "    \n",
    "sort_A(A)"
   ]
  },
  {
   "cell_type": "markdown",
   "metadata": {},
   "source": [
    "d. 算法a可以作为基数排序第2行的方法。因为它的时间代价是$O(n)$"
   ]
  },
  {
   "cell_type": "markdown",
   "metadata": {},
   "source": [
    "### 8-4&ensp;水壶"
   ]
  },
  {
   "cell_type": "markdown",
   "metadata": {},
   "source": [
    "a.<br>\n",
    "```\n",
    "for rk in red_kettles:\n",
    "    \n",
    "    bk = 1\n",
    "    while bk <=n and rk != blue_kettles[bk]:\n",
    "        bk += 1\n",
    "    \n",
    "    # 循环结束rk = blue_kettles[bk]\n",
    "    从 blue_kettles中去掉blue_kettles[bk]\n",
    "    配对(rk, blue_kettles[bk])\n",
    "\n",
    "```"
   ]
  },
  {
   "cell_type": "markdown",
   "metadata": {},
   "source": [
    "b. 根据定理8.1，在最坏情况下任何比较排序算法的下界都是$\\Theta(nlgn)$"
   ]
  },
  {
   "cell_type": "code",
   "execution_count": 15,
   "metadata": {},
   "outputs": [
    {
     "name": "stdout",
     "output_type": "stream",
     "text": [
      "([1, 3, 5, 7, 9, 11, 13, 15, 17], [1, 3, 5, 7, 9, 11, 13, 15, 17])\n"
     ]
    }
   ],
   "source": [
    "# %load 8-4_bucket.py\n",
    "import random\n",
    "\n",
    "def pairing(A,B,p,r):\n",
    "    if p < r:\n",
    "        i = random.randint(p,r)\n",
    "        x = A[i]\n",
    "        q = partition(B,p,r,x)\n",
    "        partition(A,p,r,B[q])\n",
    "        pairing(A,B,p,q-1)\n",
    "        pairing(A,B,q+1,r)\n",
    "    return A,B\n",
    "\n",
    "def partition(A,p,r,x):\n",
    "    i = p-1\n",
    "    k = p-1\n",
    "    for j in range(p,r+1):\n",
    "        if A[j] <= x:\n",
    "            i += 1\n",
    "            A[j],A[i] = A[i],A[j]\n",
    "            if A[i] < x:\n",
    "                k += 1\n",
    "                A[i],A[k] = A[k],A[i]\n",
    "\n",
    "    return i\n",
    "\n",
    "A = [17,3,15,7,11,9,13,5,1]\n",
    "B = [17, 15, 13, 11, 9, 7, 5, 3, 1]\n",
    "if __name__ == \"__main__\":\n",
    "    p = 0\n",
    "    r = len(A)-1\n",
    "    print(pairing(A,B,p,r))"
   ]
  },
  {
   "cell_type": "markdown",
   "metadata": {},
   "source": [
    "至此，两个数组都已经排好序了，也就配对成功。最坏情况下的比较次数是$\\Theta(n^2)$次"
   ]
  },
  {
   "cell_type": "markdown",
   "metadata": {},
   "source": [
    "### 8-5&ensp;平均排序"
   ]
  },
  {
   "cell_type": "markdown",
   "metadata": {},
   "source": [
    "a. 表示数组是升序排列<br>\n",
    "b. [1,2,3,4,5,6,7,8,10,9]<br>\n",
    "c. 根据k排序的的定义，将不等式的两边同时乘以k，然后左右两边同时减去$\\sum\\limits_{j=i+1}^{i+k-1}A[j]$可得$A[i]\\le A[i+k]$"
   ]
  }
 ],
 "metadata": {
  "kernelspec": {
   "display_name": "Python 3",
   "language": "python",
   "name": "python3"
  },
  "language_info": {
   "codemirror_mode": {
    "name": "ipython",
    "version": 3
   },
   "file_extension": ".py",
   "mimetype": "text/x-python",
   "name": "python",
   "nbconvert_exporter": "python",
   "pygments_lexer": "ipython3",
   "version": "3.5.4"
  },
  "toc": {
   "nav_menu": {},
   "number_sections": true,
   "sideBar": true,
   "skip_h1_title": false,
   "toc_cell": false,
   "toc_position": {},
   "toc_section_display": "block",
   "toc_window_display": false
  }
 },
 "nbformat": 4,
 "nbformat_minor": 2
}
