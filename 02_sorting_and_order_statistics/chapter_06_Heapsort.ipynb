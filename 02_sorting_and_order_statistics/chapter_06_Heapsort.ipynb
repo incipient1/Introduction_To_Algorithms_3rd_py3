{
 "cells": [
  {
   "cell_type": "markdown",
   "metadata": {},
   "source": [
    "# 第6章&ensp;堆排序"
   ]
  },
  {
   "cell_type": "markdown",
   "metadata": {
    "heading_collapsed": true
   },
   "source": [
    "## 6.1&ensp;堆排序"
   ]
  },
  {
   "cell_type": "markdown",
   "metadata": {
    "hidden": true
   },
   "source": [
    "### 6.1&ensp;练习"
   ]
  },
  {
   "cell_type": "markdown",
   "metadata": {
    "heading_collapsed": true,
    "hidden": true
   },
   "source": [
    "#### 6.1-2&ensp;高度为h的堆，元素最多和最少为？"
   ]
  },
  {
   "cell_type": "markdown",
   "metadata": {
    "hidden": true
   },
   "source": [
    "1. 元素最多为：$2^{h+1}-1$个，此时堆是完全充满的\n",
    "1. 元素最少为：$2^{h}$个，此时最下面一层只有一个元素"
   ]
  },
  {
   "cell_type": "markdown",
   "metadata": {
    "heading_collapsed": true,
    "hidden": true
   },
   "source": [
    "#### 6.1-2&ensp;证明含n个元素的堆的高度为$\\lfloor lgn \\rfloor$"
   ]
  },
  {
   "cell_type": "markdown",
   "metadata": {
    "hidden": true
   },
   "source": [
    "高度为h的堆，最少元素$2^h$个，$2^h \\leqslant n$，h最大为lgn，h又为整数，所以h为$\\lfloor lgn \\rfloor$"
   ]
  },
  {
   "cell_type": "markdown",
   "metadata": {
    "heading_collapsed": true,
    "hidden": true
   },
   "source": [
    "#### 6.1-3&ensp;**最大堆**的任一子树，该子树包含的最大元素在根节点上"
   ]
  },
  {
   "cell_type": "markdown",
   "metadata": {
    "hidden": true
   },
   "source": [
    "在最大堆中，除根节点外对任一节点i，A[parent(i)] >= A[i]，而根节点没有parent，所以根节点中的元素是最大元素（之一）"
   ]
  },
  {
   "cell_type": "markdown",
   "metadata": {
    "heading_collapsed": true,
    "hidden": true
   },
   "source": [
    "#### 6.1-4&ensp;该堆的最小元素在？"
   ]
  },
  {
   "cell_type": "markdown",
   "metadata": {
    "hidden": true
   },
   "source": [
    "在没有子节点的那些节点中"
   ]
  },
  {
   "cell_type": "markdown",
   "metadata": {
    "heading_collapsed": true,
    "hidden": true
   },
   "source": [
    "#### 6.1-5&ensp;一个已排好序的数组是最小堆吗？"
   ]
  },
  {
   "cell_type": "markdown",
   "metadata": {
    "hidden": true
   },
   "source": [
    "是"
   ]
  },
  {
   "cell_type": "markdown",
   "metadata": {
    "hidden": true
   },
   "source": [
    "#### 6.1-6&ensp;是最大堆吗？"
   ]
  },
  {
   "cell_type": "markdown",
   "metadata": {
    "hidden": true
   },
   "source": [
    "不是，元素6的页节点元素为5、7"
   ]
  },
  {
   "cell_type": "markdown",
   "metadata": {
    "hidden": true
   },
   "source": [
    "#### 6.1-7&ensp;证明叶节点下标"
   ]
  },
  {
   "cell_type": "markdown",
   "metadata": {
    "hidden": true
   },
   "source": [
    "n为叶节点，n的根节点为n/2（n为偶数时，属于左孩子）或者(n-1)/2(n为奇数时，右孩子)，即$\\lfloor n/2 \\rfloor$，此节点右边的节点即全部为叶节点，直至n，所以叶节点的下标为$\\lfloor n/2 \\rfloor,\\lfloor n/2 \\rfloor+1,...,n-1,n$"
   ]
  },
  {
   "cell_type": "markdown",
   "metadata": {
    "heading_collapsed": true
   },
   "source": [
    "## 6.2&ensp;维护堆的性质"
   ]
  },
  {
   "cell_type": "markdown",
   "metadata": {
    "hidden": true
   },
   "source": [
    "### 6.2&ensp;练习"
   ]
  },
  {
   "cell_type": "markdown",
   "metadata": {
    "hidden": true
   },
   "source": [
    "#### 6.2.-1&ensp;模仿图6-2"
   ]
  },
  {
   "cell_type": "markdown",
   "metadata": {
    "hidden": true
   },
   "source": []
  },
  {
   "cell_type": "markdown",
   "metadata": {
    "heading_collapsed": true,
    "hidden": true
   },
   "source": [
    "#### 6.2-2&ensp;最小堆伪码"
   ]
  },
  {
   "cell_type": "code",
   "execution_count": 14,
   "metadata": {
    "hidden": true
   },
   "outputs": [
    {
     "name": "stdout",
     "output_type": "stream",
     "text": [
      "[17, 16, 3, 5, 13, 10, 1, 27, 7, 12, 4, 8, 9, 0]\n"
     ]
    }
   ],
   "source": [
    "def left(i):\n",
    "    return 2*i +1\n",
    "\n",
    "def right(i):\n",
    "    return 2*i + 2\n",
    "\n",
    "def parent(i):\n",
    "    if (i-1)//2 >= 0:\n",
    "        return (i-1)//2\n",
    "    else:\n",
    "        return 'NIL'\n",
    "    \n",
    "def MIN_HEAPIFY(A,i):\n",
    "    l = left(i)\n",
    "    r = right(i)\n",
    "    if l <= len(A) and A[l] < A[i]:\n",
    "        smallest = l\n",
    "    else:\n",
    "        smallest = i\n",
    "    if r <= len(A) and A[r] < A[smallest]:\n",
    "        samllest = r\n",
    "    if smallest != i:\n",
    "        A[i], A[smallest] = A[smallest], A[i]\n",
    "        MIN_HEAPIFY(A,smallest)\n",
    "    return A\n",
    "\n",
    "A = [27,17,3,16,13,10,1,5,7,12,4,8,9,0]\n",
    "print(MIN_HEAPIFY(A,0))"
   ]
  },
  {
   "cell_type": "markdown",
   "metadata": {
    "hidden": true
   },
   "source": [
    "运行时间相同"
   ]
  },
  {
   "cell_type": "markdown",
   "metadata": {
    "hidden": true
   },
   "source": [
    "#### 6.2-3&ensp;结果"
   ]
  },
  {
   "cell_type": "markdown",
   "metadata": {
    "hidden": true
   },
   "source": [
    "做1次比较运算后结束，整个堆不发生任何变化"
   ]
  },
  {
   "cell_type": "markdown",
   "metadata": {
    "hidden": true
   },
   "source": [
    "#### 6.2-4&ensp;结果"
   ]
  },
  {
   "cell_type": "markdown",
   "metadata": {
    "hidden": true
   },
   "source": [
    "largest = i,递归结束"
   ]
  },
  {
   "cell_type": "markdown",
   "metadata": {
    "heading_collapsed": true,
    "hidden": true
   },
   "source": [
    "#### 6.2-5&ensp;循环结构的MAX_HEAPIFY"
   ]
  },
  {
   "cell_type": "code",
   "execution_count": 12,
   "metadata": {
    "hidden": true
   },
   "outputs": [
    {
     "name": "stdout",
     "output_type": "stream",
     "text": [
      "[27, 17, 3, 16, 13, 1, 1, 5, 7, 9, 4, 8, 9, 2]\n",
      "[0, 1, 2, 3, 4, 5, 6, 7, 8, 9, 10, 11, 12, 13]\n",
      "[27, 17, 3, 16, 13, 1, 1, 5, 7, 9, 4, 8, 9, 2]\n"
     ]
    }
   ],
   "source": [
    "def left(i):\n",
    "    return 2*i +1\n",
    "\n",
    "def right(i):\n",
    "    return 2*i + 2\n",
    "\n",
    "def max_heapify(A,i):\n",
    "    largest = i\n",
    "    l = left(i)\n",
    "    r = right(i)\n",
    "    A_heap_size = len(A)-1\n",
    "    while l <= A_heap_size:\n",
    "        if A[l] > A[i]:\n",
    "            largest = l\n",
    "        if r <= A_heap_size and A[r] > A[largest]:\n",
    "            largest = r\n",
    "            \n",
    "        if largest != i:\n",
    "            A[i],A[largest] = A[largest], A[i]\n",
    "            i = largest\n",
    "            l = left(i)\n",
    "            r = right(i)\n",
    "        else:\n",
    "            break\n",
    "    \n",
    "    return A\n",
    "\n",
    "A = [27,17,3,16,13,1,1,5,7,9,4,8,9,2]\n",
    "print(A)\n",
    "print(list(range(14)))\n",
    "print(max_heapify(A,8))"
   ]
  },
  {
   "cell_type": "markdown",
   "metadata": {
    "hidden": true
   },
   "source": [
    "#### 6.2-6&ensp;证明"
   ]
  },
  {
   "cell_type": "markdown",
   "metadata": {
    "hidden": true
   },
   "source": [
    "最坏运行情况举例：从根节点到叶节点路径上每个节点都会递归调用MAX_HEAPIFY，调用的总次数为$lgn$，每次运行时又要消耗常数时间，故最坏运行时间为$\\Omega(lgn)$"
   ]
  },
  {
   "cell_type": "markdown",
   "metadata": {
    "heading_collapsed": true
   },
   "source": [
    "## 6.3&ensp;建堆"
   ]
  },
  {
   "cell_type": "markdown",
   "metadata": {
    "hidden": true
   },
   "source": [
    "### 6.3&ensp;练习"
   ]
  },
  {
   "cell_type": "markdown",
   "metadata": {
    "hidden": true
   },
   "source": [
    "#### 6.3-1&ensp;模仿图6-3"
   ]
  },
  {
   "cell_type": "markdown",
   "metadata": {
    "hidden": true
   },
   "source": [
    "#### 6.3-2&ensp;why？"
   ]
  },
  {
   "cell_type": "markdown",
   "metadata": {
    "hidden": true
   },
   "source": [
    "第一次for循环开始时，以i+1、i+2……、n为根节点的堆是最大堆，循环结束，以i为根节点的堆也是最大堆<br>\n",
    "第二次for循环开始时，以i+1、i+2……、n为根节点的堆仍是最大堆<br>\n",
    "循环结束，i=0，此时以i+1、i+2……、n为根节点的堆仍是最大堆！并且A[0]是堆中的最大值<br>\n",
    "假设从1递增到$\\lfloor A.length/2 \\rfloor$，无法建立循环不变量"
   ]
  },
  {
   "cell_type": "markdown",
   "metadata": {
    "hidden": true
   },
   "source": [
    "#### 6.3-3&ensp;证明"
   ]
  },
  {
   "cell_type": "markdown",
   "metadata": {
    "heading_collapsed": true
   },
   "source": [
    "## 6.4&ensp;堆排序算法"
   ]
  },
  {
   "cell_type": "markdown",
   "metadata": {
    "hidden": true
   },
   "source": [
    "### 6.4&ensp;练习"
   ]
  },
  {
   "cell_type": "markdown",
   "metadata": {
    "heading_collapsed": true,
    "hidden": true
   },
   "source": [
    "#### 6.4-1&ensp;仿照图6-4"
   ]
  },
  {
   "cell_type": "markdown",
   "metadata": {
    "hidden": true
   },
   "source": [
    "已仿照，然后才写出了heap_sort的代码"
   ]
  },
  {
   "cell_type": "markdown",
   "metadata": {
    "heading_collapsed": true,
    "hidden": true
   },
   "source": [
    "#### 6.4-2&ensp;分析heap_sort循环不变量的正确性"
   ]
  },
  {
   "cell_type": "markdown",
   "metadata": {
    "hidden": true
   },
   "source": [
    "第一次迭代开始，i=n，此时数组A[1...n]是一个包含了第n小（即最大）元素的最大堆（由第1行代码实现），数组A[n+1]为空；<br>\n",
    "第3行代码，将A[1]（A[1]是A[1....n]中的最大值之一）与A[n]交换；第4行代码，将A[n]（交换后，为最大值之一）排除到最大堆有效元素之外；第5行代码，维护堆，使A[1....n-1]仍然是最大堆；<br>\n",
    "第二次迭代开始，i=n-1，此时数组A[1....n-1]是一个包含了第n-1小元素的最大堆<br>\n",
    "迭代结束，i= 0"
   ]
  },
  {
   "cell_type": "markdown",
   "metadata": {
    "heading_collapsed": true,
    "hidden": true
   },
   "source": [
    "#### 6.4-3&ensp;升序、降序时，heap_sort时间复杂度？"
   ]
  },
  {
   "cell_type": "markdown",
   "metadata": {
    "hidden": true
   },
   "source": [
    "均为$\\Theta(nlgn)$"
   ]
  },
  {
   "cell_type": "markdown",
   "metadata": {
    "heading_collapsed": true
   },
   "source": [
    "## 6.5&ensp;优先队列"
   ]
  },
  {
   "cell_type": "markdown",
   "metadata": {
    "heading_collapsed": true,
    "hidden": true
   },
   "source": [
    "### 6.5&ensp;练习"
   ]
  },
  {
   "cell_type": "markdown",
   "metadata": {
    "hidden": true
   },
   "source": [
    "#### 6.5-1&ensp;说明操作"
   ]
  },
  {
   "cell_type": "markdown",
   "metadata": {
    "hidden": true
   },
   "source": [
    "去掉A[1]，返回A[1]，维护A为最大堆<br>\n",
    "返回A[1] = 15<br>\n",
    "A = <\\ 13,12,10,5,6,9,7,4,0,1,2>"
   ]
  },
  {
   "cell_type": "markdown",
   "metadata": {
    "hidden": true
   },
   "source": [
    "#### 6.5-2&ensp将元素10添加到堆A的最后，再维护A为最大堆"
   ]
  },
  {
   "cell_type": "markdown",
   "metadata": {
    "hidden": true
   },
   "source": [
    "<\\ 15,13,10,5,12,9,7,4,0,6,2,1 >"
   ]
  },
  {
   "cell_type": "markdown",
   "metadata": {
    "heading_collapsed": true,
    "hidden": true
   },
   "source": [
    "### 6.5-3&ensp;最小优先队列"
   ]
  },
  {
   "cell_type": "markdown",
   "metadata": {
    "hidden": true
   },
   "source": [
    "```\n",
    "heap_minimum(A)\n",
    "    return A[1]\n",
    "\n",
    "heap_extract_min(A)\n",
    "    if A_heap_size < 1\n",
    "        error 'heap underflow'\n",
    "    min = A[1]\n",
    "    A[1] = A[A_heap_size]\n",
    "    A_heap_size = A_heap_size - 1\n",
    "    min_heapify(A,1)\n",
    "    return min\n",
    "    \n",
    "heap_decrease_key(A,i,key)\n",
    "    if key > A[i]\n",
    "        error 'new key is larger than current key'\n",
    "    A[i] = key\n",
    "    while i > 1 and A[parent(i)] > A[i]\n",
    "        exchange A[i] with A[parent(i)]\n",
    "        i = parent(i)\n",
    "        \n",
    "min_heap_insert(A,key)\n",
    "    A_heap_size = A_heap_size + 1\n",
    "    A[A_heap_size] = +∞\n",
    "    heap_decrease_key(A,A_heap_size,key)\n",
    "```"
   ]
  },
  {
   "cell_type": "markdown",
   "metadata": {
    "hidden": true
   },
   "source": [
    "#### 6.5-4&ensp;为什么要设关键字-∞？"
   ]
  },
  {
   "cell_type": "markdown",
   "metadata": {
    "hidden": true
   },
   "source": [
    "为了保证A为最大堆"
   ]
  },
  {
   "cell_type": "markdown",
   "metadata": {
    "hidden": true
   },
   "source": [
    "#### 6.5-5&ensp;分析下述的循环不变量"
   ]
  },
  {
   "cell_type": "markdown",
   "metadata": {
    "hidden": true
   },
   "source": [
    "不正确。循环不变量是i>1和A[parent(i)] < A[i]"
   ]
  },
  {
   "cell_type": "markdown",
   "metadata": {
    "hidden": true
   },
   "source": [
    "#### 6.5-6&ensp;互换操作"
   ]
  },
  {
   "cell_type": "markdown",
   "metadata": {
    "hidden": true
   },
   "source": [
    "在python中，互换操作为<br>\n",
    "`A[i], A[parent(i)] = A[parent(i)], A[i]`，需要两次操作<br>\n",
    "```\n",
    "while i > 1 and A[parent(i)] < key\n",
    "    A[i] = A[parent(i)]\n",
    "    i = parent(i)\n",
    "\n",
    "A[i] = key\n",
    "```"
   ]
  },
  {
   "cell_type": "markdown",
   "metadata": {
    "hidden": true
   },
   "source": [
    "#### 6.5-8&ensp;$O(lgn)$完成heap_delete"
   ]
  },
  {
   "cell_type": "markdown",
   "metadata": {
    "hidden": true
   },
   "source": [
    "```\n",
    "heap_delete(A,i)\n",
    "    A[i] = -∞\n",
    "    max_heapify(A,i)         # 维护堆的性质\n",
    "    A_heap_size = A_heap_size - 1\n",
    "    \n",
    "```"
   ]
  },
  {
   "cell_type": "markdown",
   "metadata": {},
   "source": [
    "## 思考题"
   ]
  },
  {
   "cell_type": "markdown",
   "metadata": {},
   "source": [
    "### 6-1&ensp;用插入的方法建堆"
   ]
  },
  {
   "cell_type": "markdown",
   "metadata": {},
   "source": [
    "a. 不总是一样；反例：当A为逆序时<br>\n",
    "b. 在最坏情况(A为最小堆)时，build_max_heap'的计算次数为：<br>\n",
    "$1+(n-1)*(4+6\\lfloor lgn \\rfloor)$即为$\\Theta(nlgn)$"
   ]
  },
  {
   "cell_type": "markdown",
   "metadata": {},
   "source": [
    "### 6-2&ensp;d堆叉分析"
   ]
  },
  {
   "cell_type": "markdown",
   "metadata": {},
   "source": [
    "a. 用下标表示<br>\n",
    "b. 高度$\\lceil log_d^n \\rceil$<br>\n",
    "c. extract_max_d<br>\n",
    "```\n",
    "heap_extract_max_d(A)\n",
    "    if A_heap_size < 1\n",
    "        error 'heap underflow'\n",
    "    max = A[1]\n",
    "    A[1] = A[A_heap_size]\n",
    "    A_heap_size = A_heap_size - 1\n",
    "    max_heapify_d(A,1)  \n",
    "    return max\n",
    "\n",
    "max_heapify_d(A,i)\n",
    "    c1 = children_1(i)\n",
    "    c2 = children_2(i)\n",
    "    ...\n",
    "    cd = children_d(i)\n",
    "    if c1 <= A_heap_size and A[c1] > A[i]\n",
    "        largest = c1\n",
    "    else largest = i\n",
    "    if c2 <= A_heap_size and A[c2] > A[largest]\n",
    "        largest = c2\n",
    "    ...\n",
    "    if cd <= A_heap_size and A[cd] > A[largest]\n",
    "        largest = cd\n",
    "    if largest != i\n",
    "        exchange A[i] with A[largest]\n",
    "        max_heapify_d(A,largest)\n",
    "```\n",
    "时间复杂度：$O(log_d^n)$<br>\n",
    "d. \n",
    "```\n",
    "max_heap_insert_d(A,key)\n",
    "    A_heap_size = A_heap_size + 1\n",
    "    A[A_heap_size] = -∞\n",
    "    heap_increase_key_d(A,A_heap_size,key)\n",
    "\n",
    "heap_increase_key_d(A,i,key)\n",
    "    if key < A[i]\n",
    "       error 'new key is samller than current key'\n",
    "    A[i] = key\n",
    "    while i > 1 and A[parent(i)] < A[i]\n",
    "        exchange A[i] with A[parent(i)]\n",
    "        i = parent(i)\n",
    "```\n",
    "时间复杂度：$O(log_d^n)$<br>\n",
    "e. 同上"
   ]
  },
  {
   "cell_type": "markdown",
   "metadata": {},
   "source": []
  }
 ],
 "metadata": {
  "kernelspec": {
   "display_name": "Python 3",
   "language": "python",
   "name": "python3"
  },
  "language_info": {
   "codemirror_mode": {
    "name": "ipython",
    "version": 3
   },
   "file_extension": ".py",
   "mimetype": "text/x-python",
   "name": "python",
   "nbconvert_exporter": "python",
   "pygments_lexer": "ipython3",
   "version": "3.5.4"
  },
  "toc": {
   "nav_menu": {},
   "number_sections": true,
   "sideBar": true,
   "skip_h1_title": false,
   "toc_cell": false,
   "toc_position": {},
   "toc_section_display": "block",
   "toc_window_display": false
  }
 },
 "nbformat": 4,
 "nbformat_minor": 2
}
