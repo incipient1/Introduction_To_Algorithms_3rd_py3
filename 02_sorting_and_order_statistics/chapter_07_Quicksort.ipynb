{
 "cells": [
  {
   "cell_type": "markdown",
   "metadata": {},
   "source": [
    "# 第7章&ensp;快速排序"
   ]
  },
  {
   "cell_type": "markdown",
   "metadata": {},
   "source": [
    "## 7.1&ensp;描述"
   ]
  },
  {
   "cell_type": "markdown",
   "metadata": {},
   "source": [
    "### 7.1&ensp;练习"
   ]
  },
  {
   "cell_type": "markdown",
   "metadata": {},
   "source": [
    "#### 7.1-1&ensp;参照图"
   ]
  },
  {
   "cell_type": "markdown",
   "metadata": {},
   "source": [
    "A = [9,5,8,7,4,2,6,11,21,13,19,12]<br>\n",
    "q = 8"
   ]
  },
  {
   "cell_type": "markdown",
   "metadata": {},
   "source": [
    "#### 7.1-2&ensp;"
   ]
  },
  {
   "cell_type": "markdown",
   "metadata": {},
   "source": [
    "返回q = r<br>\n",
    "```\n",
    "partition(A,p,r)\n",
    "    x = A[r]\n",
    "    i = p-1\n",
    "    k = p-1\n",
    "    for j = p to r-1\n",
    "        if A[j] <= x\n",
    "            i = i+1\n",
    "            exchange A[i] and A[j]\n",
    "        if A[j] = x\n",
    "            k = k +1\n",
    "    exchange A[i+1] with A[r]\n",
    "    if k = r-1\n",
    "        return (r+p) // 2\n",
    "    else\n",
    "        return i+1\n",
    "```"
   ]
  },
  {
   "cell_type": "markdown",
   "metadata": {},
   "source": [
    "#### 7.1-3&ensp;证明"
   ]
  },
  {
   "cell_type": "markdown",
   "metadata": {},
   "source": [
    "代码行|运行时间t\n",
    "---|---\n",
    "1|1\n",
    "2|1\n",
    "3|n-1\n",
    "4|1\n",
    "5、6|3\\*(0~1)\n",
    "7|1\n",
    "8|1\n",
    "\n",
    "求和得：n+3 <= t <= 4n，所以其时间复杂度是：$\\Theta (n)$"
   ]
  },
  {
   "cell_type": "markdown",
   "metadata": {},
   "source": [
    "#### 7.1-4&ensp;非增排序"
   ]
  },
  {
   "cell_type": "code",
   "execution_count": 1,
   "metadata": {},
   "outputs": [
    {
     "name": "stdout",
     "output_type": "stream",
     "text": [
      "[8, 7, 6, 5, 4, 3, 2, 1]\n"
     ]
    }
   ],
   "source": [
    "def quick_sort(A,p,r):\n",
    "    if p < r:\n",
    "        q = quatition(A,p,r)\n",
    "        quick_sort(A,p,q-1)\n",
    "        quick_sort(A,q+1,r)\n",
    "    return A\n",
    "\n",
    "def quatition(A,p,r):\n",
    "    x = A[r]\n",
    "    i = p-1\n",
    "    for j in range(p,r):\n",
    "        if A[j] >= x:\n",
    "            i += 1\n",
    "            A[j],A[i] = A[i],A[j]\n",
    "    A[i+1], A[r] = A[r],A[i+1]\n",
    "    return i+1\n",
    "\n",
    "A = [2,8,7,1,3,5,6,4]\n",
    "p = 0\n",
    "r = len(A)-1\n",
    "print(quick_sort(A,p,r))"
   ]
  },
  {
   "cell_type": "markdown",
   "metadata": {},
   "source": [
    "## 7.2&ensp;快速排序得性能"
   ]
  },
  {
   "cell_type": "markdown",
   "metadata": {},
   "source": [
    "### 7.2&ensp;练习"
   ]
  },
  {
   "cell_type": "markdown",
   "metadata": {},
   "source": [
    "#### 7.2-1&ensp;带入法证明"
   ]
  },
  {
   "cell_type": "markdown",
   "metadata": {},
   "source": [
    "设m=n-1时有$T(m)\\le cm^2$，则<br>\n",
    "$T(n)=T(m)+\\Theta(m+1) \\le cm^2 + c(m+1) =c(m+1)^2-cm < cn^2，对c > 0时成立$"
   ]
  },
  {
   "cell_type": "markdown",
   "metadata": {},
   "source": [
    "#### 7.2-2&ensp;数组A中所有元素都相同时的时间复杂度为？"
   ]
  },
  {
   "cell_type": "markdown",
   "metadata": {},
   "source": [
    "$\\Theta(n^2)$"
   ]
  },
  {
   "cell_type": "markdown",
   "metadata": {},
   "source": [
    "#### 7.2-3&ensp;按降序排列时的时间复杂度"
   ]
  },
  {
   "cell_type": "markdown",
   "metadata": {},
   "source": [
    "当按降序排列时，parition(A)返回p，需要再递归quick_sort(A,p+1,r)，即：<br>\n",
    "$T(n) = T(n-1)+\\Theta(n)$，故其时间复杂度为$\\Theta(n^2)$"
   ]
  },
  {
   "cell_type": "markdown",
   "metadata": {},
   "source": [
    "#### 7.2-4&ensp;对几乎有序的序列使用insert_sort和quick_sort进行比较"
   ]
  },
  {
   "cell_type": "markdown",
   "metadata": {},
   "source": [
    "write在t0时刻开出一张支票，记为m0，后在时间tc内recieve任一时间内去银行兑换，在时刻tc时write又开第c(常数)张支票，所以对m0来说，它的兑换次序为：在支票m1前，在m2前，……，在m(c-1)前，在mc前，此时需要排序的至多为常数c项：<br>\n",
    "insert_sort，在while循环中至多需要循环c次，所以其时间复杂度为$\\Theta(n)$<br>\n",
    "quick_sort，partition函数中for循环仍然需要n-1次，时间复杂度仍然为$O(nlgn)$"
   ]
  },
  {
   "cell_type": "markdown",
   "metadata": {},
   "source": [
    "#### 7.2-5&ensp;证明"
   ]
  },
  {
   "cell_type": "markdown",
   "metadata": {},
   "source": [
    "快速排序每一层所做的划分比例都是$1-a:a$，其中$0<a \\le 1/2$且是一个常数，最小深度情况为：从根节点到叶节点每次划分时都是a，直到最后只剩下1个元素，深度为$log_(\\frac{1}{a})n = \\frac{lgn}{lg\\frac{1}{a}}=-\\frac{lgn}{lga}$<br>\n",
    "同理最大深度的情况为：每次划分时都为1-a，深度为：$log_(\\frac{1}{1-a})n=-\\frac{lgn}{lg(1-a)}$"
   ]
  },
  {
   "cell_type": "markdown",
   "metadata": {},
   "source": [
    "## 7.3&ensp;快速排序的随机化版本"
   ]
  },
  {
   "cell_type": "markdown",
   "metadata": {},
   "source": [
    "### 7.3-1&ensp;为什么分析随机化算法的期望运行时间，而不是最坏？"
   ]
  },
  {
   "cell_type": "markdown",
   "metadata": {},
   "source": [
    "最坏情况：每次划分产生的两个自问题分别包含了n-1个元素和0个元素，出现这种情况的概率是$\\frac{2^n}{(n)!}$，当n无穷大时，其接近于0，所以我们不分析最坏情况"
   ]
  },
  {
   "cell_type": "markdown",
   "metadata": {},
   "source": [
    "### 7.3-2&ensp;最好、最坏情况下随机数生成器被调用的次数"
   ]
  },
  {
   "cell_type": "markdown",
   "metadata": {},
   "source": [
    "最坏：$\\Theta (n)$，最好：$\\Theta (lgn)$<br>\n",
    "最坏情况：同上，被调用的次数为：n<br>\n",
    "最好情况：每次都划分成n/2，被调用的次数为：lgn"
   ]
  },
  {
   "cell_type": "markdown",
   "metadata": {},
   "source": [
    "## 7.4&ensp;快速排序分析"
   ]
  }
 ],
 "metadata": {
  "kernelspec": {
   "display_name": "Python 3",
   "language": "python",
   "name": "python3"
  },
  "language_info": {
   "codemirror_mode": {
    "name": "ipython",
    "version": 3
   },
   "file_extension": ".py",
   "mimetype": "text/x-python",
   "name": "python",
   "nbconvert_exporter": "python",
   "pygments_lexer": "ipython3",
   "version": "3.5.4"
  },
  "toc": {
   "nav_menu": {},
   "number_sections": true,
   "sideBar": true,
   "skip_h1_title": false,
   "toc_cell": false,
   "toc_position": {},
   "toc_section_display": "block",
   "toc_window_display": false
  }
 },
 "nbformat": 4,
 "nbformat_minor": 2
}
