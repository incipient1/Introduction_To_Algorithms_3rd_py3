{
 "cells": [
  {
   "cell_type": "markdown",
   "metadata": {},
   "source": [
    "# 第7章&ensp;快速排序"
   ]
  },
  {
   "cell_type": "markdown",
   "metadata": {},
   "source": [
    "## 7.1&ensp;描述"
   ]
  },
  {
   "cell_type": "markdown",
   "metadata": {},
   "source": [
    "### 7.1&ensp;练习"
   ]
  },
  {
   "cell_type": "markdown",
   "metadata": {},
   "source": [
    "#### 7.1-1&ensp;参照图"
   ]
  },
  {
   "cell_type": "markdown",
   "metadata": {},
   "source": [
    "A = [9,5,8,7,4,2,6,11,21,13,19,12]<br>\n",
    "q = 8"
   ]
  },
  {
   "cell_type": "markdown",
   "metadata": {},
   "source": [
    "#### 7.1-2&ensp;"
   ]
  },
  {
   "cell_type": "markdown",
   "metadata": {},
   "source": [
    "返回q = r<br>\n",
    "```\n",
    "partition(A,p,r)\n",
    "    x = A[r]\n",
    "    i = p-1\n",
    "    k = p-1\n",
    "    for j = p to r-1\n",
    "        if A[j] <= x\n",
    "            i = i+1\n",
    "            exchange A[i] and A[j]\n",
    "        if A[j] = x\n",
    "            k = k +1\n",
    "    exchange A[i+1] with A[r]\n",
    "    if k = r-1\n",
    "        return (r+p) // 2\n",
    "    else\n",
    "        return i+1\n",
    "```"
   ]
  },
  {
   "cell_type": "markdown",
   "metadata": {},
   "source": [
    "#### 7.1-3&ensp;证明"
   ]
  },
  {
   "cell_type": "markdown",
   "metadata": {},
   "source": [
    "代码行|运行时间t\n",
    "---|---\n",
    "1|1\n",
    "2|1\n",
    "3|n-1\n",
    "4|1\n",
    "5、6|3\\*(0~1)\n",
    "7|1\n",
    "8|1\n",
    "\n",
    "求和得：n+3 <= t <= 4n，所以其时间复杂度是：$\\Theta (n)$"
   ]
  },
  {
   "cell_type": "markdown",
   "metadata": {},
   "source": [
    "#### 7.1-4&ensp;非增排序"
   ]
  },
  {
   "cell_type": "code",
   "execution_count": 1,
   "metadata": {},
   "outputs": [
    {
     "name": "stdout",
     "output_type": "stream",
     "text": [
      "[8, 7, 6, 5, 4, 3, 2, 1]\n"
     ]
    }
   ],
   "source": [
    "def quick_sort(A,p,r):\n",
    "    if p < r:\n",
    "        q = quatition(A,p,r)\n",
    "        quick_sort(A,p,q-1)\n",
    "        quick_sort(A,q+1,r)\n",
    "    return A\n",
    "\n",
    "def quatition(A,p,r):\n",
    "    x = A[r]\n",
    "    i = p-1\n",
    "    for j in range(p,r):\n",
    "        if A[j] >= x:\n",
    "            i += 1\n",
    "            A[j],A[i] = A[i],A[j]\n",
    "    A[i+1], A[r] = A[r],A[i+1]\n",
    "    return i+1\n",
    "\n",
    "A = [2,8,7,1,3,5,6,4]\n",
    "p = 0\n",
    "r = len(A)-1\n",
    "print(quick_sort(A,p,r))"
   ]
  },
  {
   "cell_type": "markdown",
   "metadata": {},
   "source": [
    "## 7.2&ensp;快速排序得性能"
   ]
  },
  {
   "cell_type": "markdown",
   "metadata": {},
   "source": [
    "### 7.2&ensp;练习"
   ]
  },
  {
   "cell_type": "markdown",
   "metadata": {},
   "source": [
    "#### 7.2-1&ensp;带入法证明"
   ]
  },
  {
   "cell_type": "markdown",
   "metadata": {},
   "source": [
    "设m=n-1时有$T(m)\\le cm^2$，则<br>\n",
    "$T(n)=T(m)+\\Theta(m+1) \\le cm^2 + c(m+1) =c(m+1)^2-cm < cn^2，对c > 0时成立$"
   ]
  },
  {
   "cell_type": "markdown",
   "metadata": {},
   "source": [
    "#### 7.2-2&ensp;数组A中所有元素都相同时的时间复杂度为？"
   ]
  },
  {
   "cell_type": "markdown",
   "metadata": {},
   "source": [
    "$\\Theta(n^2)$"
   ]
  },
  {
   "cell_type": "markdown",
   "metadata": {},
   "source": [
    "#### 7.2-3&ensp;按降序排列时的时间复杂度"
   ]
  },
  {
   "cell_type": "markdown",
   "metadata": {},
   "source": [
    "当按降序排列时，parition(A)返回p，需要再递归quick_sort(A,p+1,r)，即：<br>\n",
    "$T(n) = T(n-1)+\\Theta(n)$，故其时间复杂度为$\\Theta(n^2)$"
   ]
  },
  {
   "cell_type": "markdown",
   "metadata": {},
   "source": [
    "#### 7.2-4&ensp;对几乎有序的序列使用insert_sort和quick_sort进行比较"
   ]
  },
  {
   "cell_type": "markdown",
   "metadata": {},
   "source": [
    "write在t0时刻开出一张支票，记为m0，后在时间tc内recieve任一时间内去银行兑换，在时刻tc时write又开第c(常数)张支票，所以对m0来说，它的兑换次序为：在支票m1前，在m2前，……，在m(c-1)前，在mc前，此时需要排序的至多为常数c项：<br>\n",
    "insert_sort，在while循环中至多需要循环c次，所以其时间复杂度为$\\Theta(n)$<br>\n",
    "quick_sort，partition函数中for循环仍然需要n-1次，时间复杂度仍然为$O(nlgn)$"
   ]
  },
  {
   "cell_type": "markdown",
   "metadata": {},
   "source": [
    "#### 7.2-5&ensp;证明"
   ]
  },
  {
   "cell_type": "markdown",
   "metadata": {},
   "source": [
    "快速排序每一层所做的划分比例都是$1-a:a$，其中$0<a \\le 1/2$且是一个常数，最小深度情况为：从根节点到叶节点每次划分时都是a，直到最后只剩下1个元素，深度为$log_(\\frac{1}{a})n = \\frac{lgn}{lg\\frac{1}{a}}=-\\frac{lgn}{lga}$<br>\n",
    "同理最大深度的情况为：每次划分时都为1-a，深度为：$log_(\\frac{1}{1-a})n=-\\frac{lgn}{lg(1-a)}$"
   ]
  },
  {
   "cell_type": "markdown",
   "metadata": {},
   "source": [
    "## 7.3&ensp;快速排序的随机化版本"
   ]
  },
  {
   "cell_type": "markdown",
   "metadata": {},
   "source": [
    "### 7.3-1&ensp;为什么分析随机化算法的期望运行时间，而不是最坏？"
   ]
  },
  {
   "cell_type": "markdown",
   "metadata": {},
   "source": [
    "最坏情况：每次划分产生的两个自问题分别包含了n-1个元素和0个元素，出现这种情况的概率是$\\frac{2^n}{(n)!}$，当n无穷大时，其接近于0，所以我们不分析最坏情况"
   ]
  },
  {
   "cell_type": "markdown",
   "metadata": {},
   "source": [
    "### 7.3-2&ensp;最好、最坏情况下随机数生成器被调用的次数"
   ]
  },
  {
   "cell_type": "markdown",
   "metadata": {},
   "source": [
    "最坏：$\\Theta (n)$，最好：$\\Theta (lgn)$<br>\n",
    "最坏情况：同上，被调用的次数为：n<br>\n",
    "最好情况：每次都划分成n/2，被调用的次数为：lgn"
   ]
  },
  {
   "cell_type": "markdown",
   "metadata": {},
   "source": [
    "## 7.4&ensp;快速排序分析"
   ]
  },
  {
   "cell_type": "markdown",
   "metadata": {},
   "source": [
    "### 7.4-1&ensp;证明：在递归式$T(n) = \\max\\limits_{0\\le q \\le n-1}(T(q)+T(n-1-q))+\\Theta(n)$中，$T(n)=\\Omega(n^2)$"
   ]
  },
  {
   "cell_type": "markdown",
   "metadata": {},
   "source": [
    "设m < n，存在常数c，使得当$n>n_0$时，$T(m)\\ge cm^2$成立，<br>\n",
    "$T(n) \\ge \\max(cq^2+c(n-1-q)^2)+\\Theta(n)$=$c(\\max(q^2+(n-1-q)^2))+\\Theta(n)$<br>\n",
    "表达式$q^2+(n-q-1)^2$在参数取值区间$0\\le q \\le n-1$的端点上取得最大值，我们得到表达式的上界$(n-1)^2$，将其带入上式中，得到：<br>\n",
    "$T(n)\\ge cn^2-c(2n-1)+\\Theta(n)$，当我们合理选择c的值时，能够保证$\\Theta(n)-c(2n-1)$为正数，此时即可满足$T(n)\\ge cn^2$"
   ]
  },
  {
   "cell_type": "markdown",
   "metadata": {},
   "source": [
    "### 7.4-2&ensp;证明最好情况下快速排序运行时间"
   ]
  },
  {
   "cell_type": "markdown",
   "metadata": {},
   "source": [
    "在P98中已经证明了最好情况下的解为$\\Omega(nlgn)$，根据$\\Omega$的定义，已经证明了<br>\n",
    "设$m=\\frac{n}{2}$时$T(m)\\ge cmlgm$成立，则$T(n)=2c*\\frac{n}{2}*lg\\frac{n}{2}+\\Theta(n)\\ge cnlgn +(\\Theta(n)-cn)$ $\\ge cnlgn$，需要保证c的取值较小时，$\\Theta(n)-cn$为正数即可"
   ]
  },
  {
   "cell_type": "markdown",
   "metadata": {
    "heading_collapsed": true
   },
   "source": [
    "### 7.4-3&ensp;证明$q^2+(n-q-1)^2$在端点处取得最大值"
   ]
  },
  {
   "cell_type": "markdown",
   "metadata": {
    "hidden": true
   },
   "source": [
    "这是一个几何问题，如下图，即证明"
   ]
  },
  {
   "cell_type": "code",
   "execution_count": 60,
   "metadata": {
    "hidden": true
   },
   "outputs": [
    {
     "data": {
      "image/png": "[encoded data removed]",
      "text/plain": [
       "<matplotlib.figure.Figure at 0x1f786ae30f0>"
      ]
     },
     "metadata": {},
     "output_type": "display_data"
    }
   ],
   "source": [
    "import matplotlib.pyplot as plt\n",
    "%matplotlib inline\n",
    "\n",
    "l = [0,0,1.5,1.5]\n",
    "h = [1.5,0.5,1.5,0.5]\n",
    "w = [1.5,1.5,0.5,0.5]\n",
    "b = [0,1.5,0,1.5]\n",
    "plt.figure(figsize=(6,6))\n",
    "\n",
    "plt.bar(l, h, w, b,\n",
    "               color=['lightblue','white','white','lightblue'],\n",
    "               edgecolor=['#000000','#000000','#000000','#000000'],\n",
    "               linewidth= [1,1,1,1],\n",
    "               # xerr=4,\n",
    "               # yerr=1,\n",
    "               # ecolor='#999999',\n",
    "               # capsize=10,\n",
    "               align='edge',\n",
    "               # orientation='horizontal',\n",
    "               # tick_label=['0','q','n-1']\n",
    "              )\n",
    "plt.yticks([0,1.5,2],['0','q','n-1'])\n",
    "plt.xticks([0,1.5,2],['0','q','n-1'])\n",
    "plt.title(r'$q^2+(n-1-q)^2$')\n",
    "plt.text(s = r'$q^2$',\n",
    "        x = 0.75,\n",
    "        y = 0.75, \n",
    "        fontdict=None, \n",
    "        withdash=False,\n",
    "        horizontalalignment='center',\n",
    "        verticalalignment='center',\n",
    "        fontsize = 15)\n",
    "plt.text(s = r'$(n-1-q)^2$',\n",
    "        x = 1.75,\n",
    "        y = 1.75, \n",
    "        fontdict=None, \n",
    "        withdash=False,\n",
    "        horizontalalignment='center',\n",
    "        verticalalignment='center',\n",
    "        fontsize = 12)\n",
    "plt.show()"
   ]
  },
  {
   "cell_type": "markdown",
   "metadata": {},
   "source": [
    "## 思考题"
   ]
  },
  {
   "cell_type": "markdown",
   "metadata": {},
   "source": [
    "### 7-1&ensp;Hoare划分的正确性"
   ]
  },
  {
   "cell_type": "markdown",
   "metadata": {},
   "source": [
    "a.&ensp;return j = 9\n",
    "b.&ensp;j的初始值是r+1，第6行代码运行结束，即保证j <= r，第7行代码保证r >= p;<br>\n",
    "&ensp;同理，i的初始值是p-1，第9行、10行代码运行结束，i = p，A[i] == x，此时如果i < j，那么将[i]和A[j]交换，之后循环的时候总能使A[i]再次等于x<br>\n",
    "c.&ensp;因为A[p]是主元，而A[j]一定会降到等于主元主元时repeat until这个循环才会结束<br>\n",
    "d.&ensp;hoare_partition的while循环将A从左到右分为3个部分：<= x，无限制，>=x，i每向右移一位，< x的部分增加一个元素，无限制的减少一个元素，当出现>= x的元素时，reapt until循环结束；\n",
    "j每向左移动一位，>x的增加一个元素，无限制的减少一个元素，当出现<= x的元素时，reapt until循环结束；此时再比较i和j，如果i在j的左边，那么，就将A[j]\\(<= x的元素)和A[i]\\(>=x的元素)交换，保证结果在j和j右边的元素是大于等于x的。while循环上述，直到i>=j，结束while循环。\n",
    "e.&ensp;已经重写"
   ]
  },
  {
   "cell_type": "markdown",
   "metadata": {},
   "source": [
    "### 7-2&ensp;相同元素的快速排序"
   ]
  },
  {
   "cell_type": "markdown",
   "metadata": {},
   "source": [
    "a. $\\Theta(n^2)$，因为randomized_quick_sort每递归一次仅减少一个元素，$T(n) = T(n-1) + \\Theta(n)$"
   ]
  },
  {
   "cell_type": "markdown",
   "metadata": {},
   "source": [
    "b. 已完成"
   ]
  },
  {
   "cell_type": "markdown",
   "metadata": {},
   "source": [
    "c. 已完成"
   ]
  },
  {
   "cell_type": "markdown",
   "metadata": {},
   "source": [
    "d. "
   ]
  },
  {
   "cell_type": "markdown",
   "metadata": {},
   "source": [
    "### 7-3&ensp;快速排序的分析"
   ]
  },
  {
   "cell_type": "markdown",
   "metadata": {},
   "source": [
    "a. $\\frac{1}{n}$"
   ]
  },
  {
   "cell_type": "markdown",
   "metadata": {},
   "source": [
    "e. 设对于q<= n时有$E[T(q)]<= cqlgq$，带入：\n",
    "$\\frac{2}{n}\\sum\\limits_{q=2}^{n-1}E[T(q)] \\le$  $\\frac{2}{n}\\sum\\limits_{q=2}^{n-1}cqlgq$，再利用公式7.7，$\\le \\frac{2c}{n}*(\\frac{1}{2}n^2lgn - \\frac{1}{8}n^2)=$ $cnlgn-\\frac{cn}{4}$<br>\n",
    "$E[T(n)]\\le cnlgn-\\frac{cn}{4}+\\Theta(n)$ $\\le cnlgn$，选择较小c，使$\\Theta(n)-\\frac{cn}{4}$为非负数即可"
   ]
  },
  {
   "cell_type": "markdown",
   "metadata": {},
   "source": []
  }
 ],
 "metadata": {
  "kernelspec": {
   "display_name": "Python 3",
   "language": "python",
   "name": "python3"
  },
  "language_info": {
   "codemirror_mode": {
    "name": "ipython",
    "version": 3
   },
   "file_extension": ".py",
   "mimetype": "text/x-python",
   "name": "python",
   "nbconvert_exporter": "python",
   "pygments_lexer": "ipython3",
   "version": "3.5.4"
  },
  "toc": {
   "nav_menu": {},
   "number_sections": true,
   "sideBar": true,
   "skip_h1_title": false,
   "toc_cell": false,
   "toc_position": {},
   "toc_section_display": "block",
   "toc_window_display": false
  }
 },
 "nbformat": 4,
 "nbformat_minor": 2
}
