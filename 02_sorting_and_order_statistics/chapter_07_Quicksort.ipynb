{
 "cells": [
  {
   "cell_type": "markdown",
   "metadata": {},
   "source": [
    "# 第7章&ensp;快速排序"
   ]
  },
  {
   "cell_type": "markdown",
   "metadata": {},
   "source": [
    "## 7.1&ensp;描述"
   ]
  },
  {
   "cell_type": "markdown",
   "metadata": {},
   "source": [
    "### 7.1&ensp;练习"
   ]
  },
  {
   "cell_type": "markdown",
   "metadata": {},
   "source": [
    "#### 7.1-1&ensp;参照图"
   ]
  },
  {
   "cell_type": "markdown",
   "metadata": {},
   "source": [
    "A = [9,5,8,7,4,2,6,11,21,13,19,12]<br>\n",
    "q = 8"
   ]
  },
  {
   "cell_type": "markdown",
   "metadata": {},
   "source": [
    "#### 7.1-2&ensp;"
   ]
  },
  {
   "cell_type": "markdown",
   "metadata": {},
   "source": [
    "返回q = r<br>\n",
    "```\n",
    "partition(A,p,r)\n",
    "    x = A[r]\n",
    "    i = p-1\n",
    "    k = p-1\n",
    "    for j = p to r-1\n",
    "        if A[j] <= x\n",
    "            i = i+1\n",
    "            exchange A[i] and A[j]\n",
    "        if A[j] = x\n",
    "            k = k +1\n",
    "    exchange A[i+1] with A[r]\n",
    "    if k = r-1\n",
    "        return (r+p) // 2\n",
    "    else\n",
    "        return i+1\n",
    "```"
   ]
  },
  {
   "cell_type": "markdown",
   "metadata": {},
   "source": [
    "#### 7.1-3&ensp;证明"
   ]
  },
  {
   "cell_type": "markdown",
   "metadata": {},
   "source": [
    "代码行|运行时间t\n",
    "---|---\n",
    "1|1\n",
    "2|1\n",
    "3|n-1\n",
    "4|1\n",
    "5、6|3\\*(0~1)\n",
    "7|1\n",
    "8|1\n",
    "\n",
    "求和得：n+3 <= t <= 4n，所以其时间复杂度是：$\\Theta (n)$"
   ]
  },
  {
   "cell_type": "markdown",
   "metadata": {},
   "source": [
    "#### 7.1-4&ensp;非增排序"
   ]
  },
  {
   "cell_type": "code",
   "execution_count": null,
   "metadata": {
    "collapsed": true
   },
   "outputs": [],
   "source": [
    "def "
   ]
  }
 ],
 "metadata": {
  "kernelspec": {
   "display_name": "Python 3",
   "language": "python",
   "name": "python3"
  },
  "language_info": {
   "codemirror_mode": {
    "name": "ipython",
    "version": 3
   },
   "file_extension": ".py",
   "mimetype": "text/x-python",
   "name": "python",
   "nbconvert_exporter": "python",
   "pygments_lexer": "ipython3",
   "version": "3.5.4"
  },
  "toc": {
   "nav_menu": {},
   "number_sections": true,
   "sideBar": true,
   "skip_h1_title": false,
   "toc_cell": false,
   "toc_position": {},
   "toc_section_display": "block",
   "toc_window_display": false
  }
 },
 "nbformat": 4,
 "nbformat_minor": 2
}
