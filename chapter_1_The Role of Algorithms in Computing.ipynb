{
 "cells": [
  {
   "cell_type": "markdown",
   "metadata": {},
   "source": [
    "# 算法在计算机中作用\n",
    "## 练习page6\n",
    "### -1 给出现实生活中需要排序的例子"
   ]
  },
  {
   "cell_type": "markdown",
   "metadata": {},
   "source": [
    "取号排队。\n",
    "\n",
    "同时有两拨人来到餐厅，但是餐厅中已经没有多余座位了，这时他们都需要排队。队伍A有两个人，队伍B有6人，参观需要根据他们的人数安排作为，排队在他们前面的桌数也是不定的。"
   ]
  },
  {
   "cell_type": "markdown",
   "metadata": {},
   "source": [
    "### -2除速度外，在真实环境中还可能使用哪些其它有关效率的对量"
   ]
  },
  {
   "cell_type": "markdown",
   "metadata": {},
   "source": [
    "1. 计算单价\n",
    "\n",
    "举例：解决1MB数据排序问题时花费的金钱数量\n",
    "2. 开发速度\n",
    "\n",
    "设计出算法需要花费的时间"
   ]
  },
  {
   "cell_type": "markdown",
   "metadata": {},
   "source": [
    "## 练习page7\n",
    "### -2插入排序$8n^{2}$步，优于归并排序$64nlgn$\n",
    "即求解当8n \\* n < 64n \\* lgn时，n的最大值"
   ]
  },
  {
   "cell_type": "code",
   "execution_count": 2,
   "metadata": {},
   "outputs": [
    {
     "name": "stdout",
     "output_type": "stream",
     "text": [
      "当n小于等于43时，插入排序优于归并排序\n"
     ]
    }
   ],
   "source": [
    "import math\n",
    "n = 2\n",
    "while n < 8*(math.log(n,2)):\n",
    "    n += 1\n",
    "\n",
    "print('当n小于等于{}时，插入排序优于归并排序'.format(n-1))"
   ]
  },
  {
   "cell_type": "markdown",
   "metadata": {},
   "source": [
    "### -3 n的最小值为何值时，运行时间为100$n^{2}$的一个算法在相同机器上快于运行时间为$2^{n}$的另一个算法\n",
    "即求解100n \\* n < $2^{n}$时，n的最小值"
   ]
  },
  {
   "cell_type": "code",
   "execution_count": 3,
   "metadata": {},
   "outputs": [
    {
     "name": "stdout",
     "output_type": "stream",
     "text": [
      "算法100n*n快于算法2**n时，n的最小值为14\n"
     ]
    }
   ],
   "source": [
    "n = 2\n",
    "while 100*n**2 > 2 ** n:\n",
    "    n += 1\n",
    "    \n",
    "print('算法100n*n快于算法2**n时，n的最小值为{}'.format(n-1))"
   ]
  },
  {
   "cell_type": "markdown",
   "metadata": {},
   "source": [
    "## 思考题\n",
    "### 时间t内不同算法运行的最大规模\n",
    "即求解当f(n) <= t时，n的最大值\n",
    "设g(n) = $f^{-1}(n)$，即求g(t)"
   ]
  },
  {
   "cell_type": "code",
   "execution_count": 4,
   "metadata": {},
   "outputs": [],
   "source": [
    "time = {'second':10**3,'minute':6*(10**4),'hour':3.6*10**6,\n",
    "            'day':8.64*10**7,'month':2.592*10**9,\n",
    "            'year':3.11*10**10,'century':3.11*10**12}"
   ]
  },
  {
   "cell_type": "code",
   "execution_count": 5,
   "metadata": {
    "collapsed": true
   },
   "outputs": [],
   "source": [
    "time_list = ['second','minute','hour','day','month','year','century']"
   ]
  },
  {
   "cell_type": "code",
   "execution_count": 6,
   "metadata": {
    "collapsed": true
   },
   "outputs": [],
   "source": [
    "import math"
   ]
  },
  {
   "cell_type": "code",
   "execution_count": 7,
   "metadata": {},
   "outputs": [],
   "source": [
    "def lgn(t):\n",
    "    if t <= time['second']:\n",
    "        return 2 ** t\n",
    "    elif t <= time['minute']:\n",
    "        return lgn(time['second']) * (t / time['second'])\n",
    "    elif t <= time['hour']:\n",
    "        return lgn(time['minute']) * (t / time['minute'])\n",
    "    elif t <= time['day']:\n",
    "        return lgn(time['hour']) * (t / time['hour'])\n",
    "    elif t <= time['month']:\n",
    "        return lgn(time['day']) * (t / time['day'])\n",
    "    elif t <= time['year']:\n",
    "        return lgn(time['month']) * (t / time['month'])\n",
    "    elif t <= time['century']:\n",
    "        return lgn(time['year']) * (t / time['year'])\n",
    "    else:\n",
    "        return lgn(time['century']) * (t / time['century'])"
   ]
  },
  {
   "cell_type": "code",
   "execution_count": 8,
   "metadata": {},
   "outputs": [
    {
     "data": {
      "text/plain": [
       "2.777350309826805e+307"
      ]
     },
     "execution_count": 8,
     "metadata": {},
     "output_type": "execute_result"
    }
   ],
   "source": [
    "t = time['month']\n",
    "fun = [lgn][0]\n",
    "fun(t)"
   ]
  },
  {
   "cell_type": "code",
   "execution_count": 9,
   "metadata": {},
   "outputs": [
    {
     "name": "stdout",
     "output_type": "stream",
     "text": [
      "在1秒钟内，算法lgn求解问题最大规模n为：2.78e+307\n"
     ]
    }
   ],
   "source": [
    "print('在{0}内，算法{1}求解问题最大规模n为：{2:.2e}'.format('1秒钟','lgn',lgn(t)))"
   ]
  },
  {
   "cell_type": "code",
   "execution_count": 10,
   "metadata": {},
   "outputs": [
    {
     "name": "stdout",
     "output_type": "stream",
     "text": [
      "在1 second内，算法lgn求解问题最大规模n为：1.07e+301\n",
      "在1 minute内，算法lgn求解问题最大规模n为：6.43e+302\n",
      "在1 hour内，算法lgn求解问题最大规模n为：3.86e+304\n",
      "在1 day内，算法lgn求解问题最大规模n为：9.26e+305\n",
      "在1 month内，算法lgn求解问题最大规模n为：2.78e+307\n",
      "在1 year内，算法lgn求解问题最大规模n为：inf\n",
      "在1 century内，算法lgn求解问题最大规模n为：inf\n"
     ]
    }
   ],
   "source": [
    "for t in time_list:\n",
    "    print('在1 {0}内，算法{1}求解问题最大规模n为：{2:.2e}'.format(t,'lgn',lgn(time[t])))"
   ]
  },
  {
   "cell_type": "code",
   "execution_count": 11,
   "metadata": {
    "collapsed": true
   },
   "outputs": [],
   "source": [
    "def nsqrt(t):\n",
    "    return t**2"
   ]
  },
  {
   "cell_type": "code",
   "execution_count": 12,
   "metadata": {
    "collapsed": true
   },
   "outputs": [],
   "source": [
    "def nlgn(t):\n",
    "    n = 1\n",
    "    while n * math.log(n,2) <= t:\n",
    "        n += 1\n",
    "    \n",
    "    return n-1"
   ]
  },
  {
   "cell_type": "code",
   "execution_count": 13,
   "metadata": {
    "collapsed": true
   },
   "outputs": [],
   "source": [
    "def nsqr(t):\n",
    "    return t**0.5"
   ]
  },
  {
   "cell_type": "code",
   "execution_count": 14,
   "metadata": {
    "collapsed": true
   },
   "outputs": [],
   "source": [
    "def ncube(t):\n",
    "    return t ** (1/3)"
   ]
  },
  {
   "cell_type": "code",
   "execution_count": 15,
   "metadata": {},
   "outputs": [],
   "source": [
    "def n2(t):\n",
    "    return math.log(t,2)"
   ]
  },
  {
   "cell_type": "code",
   "execution_count": 1,
   "metadata": {
    "collapsed": true
   },
   "outputs": [],
   "source": [
    "def nfactorial(t):\n",
    "    n = 1\n",
    "    while math.factorial(n) <= t:\n",
    "        n += 1\n",
    "        \n",
    "    return n-1"
   ]
  },
  {
   "cell_type": "code",
   "execution_count": null,
   "metadata": {},
   "outputs": [
    {
     "name": "stdout",
     "output_type": "stream",
     "text": [
      "在1 second内，算法<function lgn at 0x000001487F9D2BF8>求解问题最大规模n为：1.07e+301\n",
      "在1 minute内，算法<function lgn at 0x000001487F9D2BF8>求解问题最大规模n为：6.43e+302\n",
      "在1 hour内，算法<function lgn at 0x000001487F9D2BF8>求解问题最大规模n为：3.86e+304\n",
      "在1 day内，算法<function lgn at 0x000001487F9D2BF8>求解问题最大规模n为：9.26e+305\n",
      "在1 month内，算法<function lgn at 0x000001487F9D2BF8>求解问题最大规模n为：2.78e+307\n",
      "在1 year内，算法<function lgn at 0x000001487F9D2BF8>求解问题最大规模n为：inf\n",
      "在1 century内，算法<function lgn at 0x000001487F9D2BF8>求解问题最大规模n为：inf\n",
      "在1 second内，算法<function nsqrt at 0x000001487F9E28C8>求解问题最大规模n为：1.00e+06\n",
      "在1 minute内，算法<function nsqrt at 0x000001487F9E28C8>求解问题最大规模n为：3.60e+09\n",
      "在1 hour内，算法<function nsqrt at 0x000001487F9E28C8>求解问题最大规模n为：1.30e+13\n",
      "在1 day内，算法<function nsqrt at 0x000001487F9E28C8>求解问题最大规模n为：7.46e+15\n",
      "在1 month内，算法<function nsqrt at 0x000001487F9E28C8>求解问题最大规模n为：6.72e+18\n",
      "在1 year内，算法<function nsqrt at 0x000001487F9E28C8>求解问题最大规模n为：9.67e+20\n",
      "在1 century内，算法<function nsqrt at 0x000001487F9E28C8>求解问题最大规模n为：9.67e+24\n",
      "在1 second内，算法<function nlgn at 0x000001487F9E2B70>求解问题最大规模n为：1.40e+02\n",
      "在1 minute内，算法<function nlgn at 0x000001487F9E2B70>求解问题最大规模n为：4.90e+03\n",
      "在1 hour内，算法<function nlgn at 0x000001487F9E2B70>求解问题最大规模n为：2.04e+05\n",
      "在1 day内，算法<function nlgn at 0x000001487F9E2B70>求解问题最大规模n为：3.94e+06\n",
      "在1 month内，算法<function nlgn at 0x000001487F9E2B70>求解问题最大规模n为：9.77e+07\n"
     ]
    }
   ],
   "source": [
    "functions = [lgn,nsqrt,nlgn,nsqr,ncube,n2,nfactorial]\n",
    "for func in functions:\n",
    "    for t in time_list:\n",
    "        print('在1 {}内，算法{}求解问题最大规模n为：{:.2e}'.format(t,func,func(time[t])))  \n",
    "    \n",
    "    print()"
   ]
  },
  {
   "cell_type": "markdown",
   "metadata": {},
   "source": [
    "函数|1秒钟|1分钟|1小时|1天|1个月|1年|1世纪\n",
    "--|--|--|--|--|--|--|--\n",
    "$\\lg n$|1.07e+301||||||\n",
    "$\\sqrt n$|3.60e+09||||||\n",
    "$n$|e+03||||||\n",
    "$n\\lg n$|1.40e+02||||||\n",
    "$n^{2}$|3.16e+01||||||\n",
    "$n^{3}$|1.00e+01||||||\n",
    "$2^{n}$|9.97e+00||||||\n",
    "$n!$|6.00e+00||||||"
   ]
  }
 ],
 "metadata": {
  "kernelspec": {
   "display_name": "Python 3",
   "language": "python",
   "name": "python3"
  },
  "language_info": {
   "codemirror_mode": {
    "name": "ipython",
    "version": 3
   },
   "file_extension": ".py",
   "mimetype": "text/x-python",
   "name": "python",
   "nbconvert_exporter": "python",
   "pygments_lexer": "ipython3",
   "version": "3.5.4"
  },
  "toc": {
   "nav_menu": {},
   "number_sections": true,
   "sideBar": true,
   "skip_h1_title": false,
   "toc_cell": false,
   "toc_position": {},
   "toc_section_display": "block",
   "toc_window_display": false
  }
 },
 "nbformat": 4,
 "nbformat_minor": 2
}
